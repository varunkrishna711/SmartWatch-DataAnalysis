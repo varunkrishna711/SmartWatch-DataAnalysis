{
  "nbformat": 4,
  "nbformat_minor": 0,
  "metadata": {
    "colab": {
      "name": "smartwarch-analysis.ipynb",
      "provenance": [],
      "collapsed_sections": [],
      "authorship_tag": "ABX9TyPr1U4Kz8vZr0jcsz+d5EPm",
      "include_colab_link": true
    },
    "kernelspec": {
      "name": "python3",
      "display_name": "Python 3"
    },
    "language_info": {
      "name": "python"
    }
  },
  "cells": [
    {
      "cell_type": "markdown",
      "metadata": {
        "id": "view-in-github",
        "colab_type": "text"
      },
      "source": [
        "<a href=\"https://colab.research.google.com/github/varunkrishna711/SmartWatch-DataAnalysis/blob/main/smartwarch_analysis.ipynb\" target=\"_parent\"><img src=\"https://colab.research.google.com/assets/colab-badge.svg\" alt=\"Open In Colab\"/></a>"
      ]
    },
    {
      "cell_type": "code",
      "execution_count": 4,
      "metadata": {
        "id": "9HzpTkf7sXoo"
      },
      "outputs": [],
      "source": [
        "import pandas as pd\n",
        "import numpy as np\n",
        "import plotly.express as px\n",
        "import plotly.graph_objects as go\n",
        "import matplotlib.pyplot as plt\n"
      ]
    },
    {
      "cell_type": "code",
      "source": [
        "data = pd.read_csv(\"dailyActivity_merged.csv\")\n",
        "print(data.head())"
      ],
      "metadata": {
        "id": "xB1nT4AeytiL"
      },
      "execution_count": null,
      "outputs": []
    },
    {
      "cell_type": "code",
      "source": [
        "print(data.isnull().sum())      # to find all the null values in a dataset"
      ],
      "metadata": {
        "id": "Tt5yeljbz55A"
      },
      "execution_count": null,
      "outputs": []
    },
    {
      "cell_type": "code",
      "source": [
        "print(data.info())"
      ],
      "metadata": {
        "id": "KW5TJ5sV29Z_"
      },
      "execution_count": null,
      "outputs": []
    },
    {
      "cell_type": "code",
      "source": [
        "data[\"ActivityDate\"] = pd.to_datetime(data[\"ActivityDate\"])\n",
        "print(data.info())"
      ],
      "metadata": {
        "id": "D5EZvzo43zNd"
      },
      "execution_count": null,
      "outputs": []
    },
    {
      "cell_type": "code",
      "source": [
        "data[\"TotalMinutes\"] = data[\"VeryActiveMinutes\"] + data[\"FairlyActiveMinutes\"] + data[\"LightlyActiveMinutes\"] + data[\"SedentaryMinutes\"]\n",
        "print(data[\"TotalMinutes\"].sample(5))"
      ],
      "metadata": {
        "id": "jxUGJlV15ber"
      },
      "execution_count": null,
      "outputs": []
    },
    {
      "cell_type": "code",
      "source": [
        "print(data.describe())"
      ],
      "metadata": {
        "id": "M5wDCljm6TeY"
      },
      "execution_count": null,
      "outputs": []
    },
    {
      "cell_type": "code",
      "source": [
        "figure = px.scatter(data_frame = data, x=\"Calories\", y=\"TotalSteps\",size=\"VeryActiveMinutes\", trendline=\"ols\", title=\"Relationship between Calories and Total Steps\")\n",
        "figure.show()\n",
        "\n",
        "#size varies with the value of VeryActiveMinutes"
      ],
      "metadata": {
        "id": "lhSfHxxw6vWX"
      },
      "execution_count": null,
      "outputs": []
    },
    {
      "cell_type": "code",
      "source": [
        "label = [\"Very Active\", \"Fairly Active minutes\",\"Lightly Active Minutes\",\"Inactive Minutes\"] #legend\n",
        "counts = data[[\"VeryActiveMinutes\",\"FairlyActiveMinutes\",\"LightlyActiveMinutes\",\"SedentaryMinutes\"]].mean()\n",
        "colors = ['gold','lightgreen','pink','blue']\n",
        "\n",
        "fig = go.Figure(data=[go.Pie(labels=label, values=counts)]) # Initialising pie chart\n",
        "fig.update_layout(title_text='Total active minutes', title_font_family='Times New Roman')  #title\n",
        "fig.update_traces(hoverinfo='label+percent', textinfo='value', textfont_size=30, marker=dict(colors=colors, line=dict(color='black', width=3)))\n",
        "fig.show()"
      ],
      "metadata": {
        "id": "gFhjB59VAL2-"
      },
      "execution_count": null,
      "outputs": []
    },
    {
      "cell_type": "code",
      "source": [
        "# To find weekdays of records by using the ActivityDate column\n",
        "\n",
        "data[\"Day\"] = data[\"ActivityDate\"].dt.day_name()\n",
        "print(data[\"Day\"].head())"
      ],
      "metadata": {
        "id": "0VmljPkOdB5H"
      },
      "execution_count": null,
      "outputs": []
    },
    {
      "cell_type": "code",
      "source": [
        "# Active, fairly active and lightly active minutes\n",
        "\n",
        "fig = go.Figure()\n",
        "\n",
        "fig.add_trace(go.Bar(\n",
        "    x=data[\"Day\"],\n",
        "    y=data[\"VeryActiveMinutes\"],\n",
        "    name='Very Active',\n",
        "    marker_color='purple'\n",
        "))\n",
        "\n",
        "fig.add_trace(go.Bar(\n",
        "    x=data[\"Day\"],\n",
        "    y=data[\"FairlyActiveMinutes\"],\n",
        "    name='Fairly Active',\n",
        "    marker_color='green'\n",
        "))\n",
        "\n",
        "fig.add_trace(go.Bar(\n",
        "    x=data[\"Day\"],\n",
        "    y=data[\"LightlyActiveMinutes\"],\n",
        "    name='Lightly Active',\n",
        "    marker_color='pink'\n",
        "))\n",
        "\n",
        "fig.update_layout(barmode='group', xaxis_tickangle=-45)\n",
        "fig.show()"
      ],
      "metadata": {
        "id": "vGXUEPc8nGAl"
      },
      "execution_count": null,
      "outputs": []
    },
    {
      "cell_type": "code",
      "source": [
        "day = data[\"Day\"].value_counts()\n",
        "label = day.index\n",
        "counts = data[\"SedentaryMinutes\"]\n",
        "colors = ['gold','lightgreen','pink','blue','skyblue','cyan','orange']\n",
        "\n",
        "fig = go.Figure(data=[go.Pie(labels=label, values=counts)])\n",
        "fig.update_layout(title_text='Inactive Minutes Daily')  \n",
        "fig.update_traces(hoverinfo='label+percent', textinfo='value', textfont_size=30, marker=dict(colors=colors, line=dict(color='black', width=3)))\n",
        "fig.show() \n"
      ],
      "metadata": {
        "id": "MaxDOXHNl32g"
      },
      "execution_count": null,
      "outputs": []
    }
  ]
}